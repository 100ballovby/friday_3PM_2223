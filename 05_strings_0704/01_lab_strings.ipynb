{
 "cells": [
  {
   "cell_type": "markdown",
   "metadata": {
    "collapsed": true,
    "pycharm": {
     "is_executing": true
    }
   },
   "source": [
    "# Лабораторная строки №1\n",
    "\n",
    "<p style=\"font-size: 18px\">Напишите программу, которая принимает на вход строку и возвращает количество слов в этой строке. Слова считаются разделенными пробелами.</p>"
   ]
  },
  {
   "cell_type": "code",
   "execution_count": 5,
   "metadata": {},
   "outputs": [
    {
     "name": "stdout",
     "output_type": "stream",
     "text": [
      "Слов в строке: 8\n"
     ]
    }
   ],
   "source": [
    "phrase = 'посчитай количество слов в строке, слова разделены пробелами!'\n",
    "count = 1\n",
    "\n",
    "for i in range(len(phrase)):\n",
    "    if phrase[i] == ' ':\n",
    "        count += 1\n",
    "        \n",
    "print(f'Слов в строке: {count}')"
   ]
  },
  {
   "cell_type": "markdown",
   "metadata": {},
   "source": [
    "<p style=\"font-size: 18px\">Пробелы разделяют слова, а значит количество слов можно посчитать путем пересчета всех пробелов, найденных в строке. Так как после последнего слова нет пробела, то к общему количеству пробелов, нужно добавить 1.</p>\n",
    "\n",
    "<p style=\"font-size: 18px\">Существует решение в стиле Pythonic way - то есть использование встроенных фич языка для решения задачи.</p>\n",
    "\n",
    "<p style=\"font-size: 18px\">В Python существует строчный метод, который называется <code>.split()</code>, которая превращает строку в список. Разделяет строку о по пробелам (по умолчанию).</p>\n",
    "\n"
   ]
  },
  {
   "cell_type": "code",
   "execution_count": 6,
   "metadata": {},
   "outputs": [
    {
     "name": "stdout",
     "output_type": "stream",
     "text": [
      "['hello,', 'world!', 'There', 'is', 'another', 'string']\n"
     ]
    }
   ],
   "source": [
    "print('hello, world! There is another string'.split())\n"
   ]
  },
  {
   "cell_type": "markdown",
   "metadata": {},
   "source": [
    "<p style=\"font-size: 18px\">Таким образом решение можно уместить в две строки:</p>"
   ]
  },
  {
   "cell_type": "code",
   "execution_count": 7,
   "metadata": {},
   "outputs": [
    {
     "name": "stdout",
     "output_type": "stream",
     "text": [
      "8\n"
     ]
    }
   ],
   "source": [
    "phrase = 'посчитай количество слов в строке, слова разделены пробелами!'\n",
    "print(len(phrase.split()))"
   ]
  },
  {
   "cell_type": "markdown",
   "metadata": {},
   "source": [
    "<p style=\"font-size: 18px\">При таком подходе, можно исключить из подсчета все частицы, предлоги и прочее:</p>"
   ]
  },
  {
   "cell_type": "code",
   "execution_count": 8,
   "metadata": {},
   "outputs": [
    {
     "name": "stdout",
     "output_type": "stream",
     "text": [
      "Слов в строке без частиц и предлогов: 7\n"
     ]
    }
   ],
   "source": [
    "phrase = 'посчитай количество слов в строке, слова разделены пробелами!'\n",
    "words = phrase.split()\n",
    "count = 0\n",
    "\n",
    "for word in words:\n",
    "    if len(word) >= 2:\n",
    "        count += 1\n",
    "        \n",
    "print(f'Слов в строке без частиц и предлогов: {count}')"
   ]
  },
  {
   "cell_type": "markdown",
   "metadata": {},
   "source": [
    "## Задача №2\n",
    "\n",
    "<p style=\"font-size: 18px\">Напишите программу, которая принимает на вход строку и две подстроки <code>old</code> и <code>new</code>, и заменяет все вхождения подстроки <code>old</code> на подстроку <code>new</code>.</p>"
   ]
  },
  {
   "cell_type": "code",
   "execution_count": 10,
   "metadata": {},
   "outputs": [
    {
     "name": "stdout",
     "output_type": "stream",
     "text": [
      "введите строку: I love C++, because C++ is top!\n",
      "Значение, которое нужно заменить: C++\n",
      "Значение, НА которое нужно заменить: Python\n",
      "I love Python, because Python is top!\n"
     ]
    }
   ],
   "source": [
    "string = input('введите строку: ')\n",
    "old = input('Значение, которое нужно заменить: ')\n",
    "new = input('Значение, НА которое нужно заменить: ')\n",
    "\n",
    "string = string.replace(old, new)\n",
    "print(string)"
   ]
  },
  {
   "cell_type": "markdown",
   "metadata": {},
   "source": [
    "## Задача №3\n",
    "\n",
    "<p style=\"font-size: 18px\">Напишите программу, которая найдет самое длинное слово в строке.</p>"
   ]
  },
  {
   "cell_type": "code",
   "execution_count": 11,
   "metadata": {},
   "outputs": [
    {
     "name": "stdout",
     "output_type": "stream",
     "text": [
      "введите строчку: Здесь нужно найти самое длинное слово в строчке.\n",
      "['Здесь', 'нужно', 'найти', 'самое', 'длинное', 'слово', 'в', 'строчке.']\n"
     ]
    }
   ],
   "source": [
    "string = input('введите строчку: ')\n",
    "words = string.split()  # разбил на список\n",
    "print(words)"
   ]
  },
  {
   "cell_type": "markdown",
   "metadata": {},
   "source": [
    "<p style=\"font-size: 18px\">Для решения задачи необходимо использовать алгоритм линейного поиска в массиве. его суть заключается в том, что циклом вы просматриваете каждый элемент массива (списка). Искомый параметр (размер, величина, масса, длина, ширина) первого элемента массива (списка) записываете как эталонный. Дальнейшие действия цикла направлены на то, чтобы сравнивать искомый параметр КАЖДОГО объекта внутри массива (списка) с эталонным. Если искомый параметр какого-то элемента отличается от эталонного, в завимисоти от условия задачи вы заменяете эталонный параметр на параметр конкретного элемента массива (списка).</p>"
   ]
  },
  {
   "cell_type": "code",
   "execution_count": 13,
   "metadata": {},
   "outputs": [
    {
     "name": "stdout",
     "output_type": "stream",
     "text": [
      "введите строчку: здесь нужно найти самое длинное слово, возможно, что этим словом будет абракадабра\n",
      "Самое длинное слово: абракадабра, его длина: 11\n"
     ]
    }
   ],
   "source": [
    "string = input('введите строчку: ')\n",
    "words = string.split()  # разбил на список\n",
    "longest = words[0]  # по умолчанию считаю, что самое длинное слово в строке - это первое слово в строке (даже если это не так, это потом изменится)\n",
    "\n",
    "for word in words:\n",
    "    if len(word) > len(longest):  # если длина слова из списка БОЛЬШЕ длины самого длинного слова\n",
    "        longest = word  # заменяю самое длинное слово этим словом\n",
    "\n",
    "print(f'Самое длинное слово: {longest}, его длина: {len(longest)}')"
   ]
  },
  {
   "cell_type": "markdown",
   "metadata": {},
   "source": [
    "## Вариация\n",
    "\n",
    "<p style=\"font-size: 18px\">Дан список чисел. Длина списка неизвестна. Необходимо найти самое большое и самое маленькое число в списке.</p>"
   ]
  },
  {
   "cell_type": "code",
   "execution_count": 14,
   "metadata": {},
   "outputs": [
    {
     "name": "stdout",
     "output_type": "stream",
     "text": [
      "Наибольшее число в списке: 41\n",
      "Наименьшее число в списке: -89\n"
     ]
    }
   ],
   "source": [
    "nums = [-5, 12, 8, 7, 14, 21, -89, 32, 41, 17]\n",
    "min_n = nums[0]\n",
    "max_n = nums[0]\n",
    "\n",
    "for i in range(len(nums)):\n",
    "    if nums[i] > max_n:\n",
    "        max_n = nums[i]\n",
    "    elif nums[i] < min_n:\n",
    "        min_n = nums[i]\n",
    "        \n",
    "print(f'Наибольшее число в списке: {max_n}')\n",
    "print(f'Наименьшее число в списке: {min_n}')"
   ]
  },
  {
   "cell_type": "markdown",
   "metadata": {},
   "source": [
    "## Задача №4\n",
    "\n",
    "<p style=\"font-size: 18px\">Есть список из строк. Необходимо удалить в этом списке те слова, которые повторяются.</p>"
   ]
  },
  {
   "cell_type": "code",
   "execution_count": 15,
   "metadata": {},
   "outputs": [
    {
     "name": "stdout",
     "output_type": "stream",
     "text": [
      "['мама', 'мыла', 'раму', 'где', 'а', 'также', 'рама']\n"
     ]
    }
   ],
   "source": [
    "phrase = 'мама мыла раму где мама а также где рама'\n",
    "words = phrase.split()\n",
    "unique_words = []  # во втором списке буду хранить уникальные слова \n",
    "\n",
    "for word in words:  # перебираю все слова в списке words \n",
    "    if word not in unique_words:  # если какое-то конкретное слово НЕ находится в списке уникальных слов \n",
    "        unique_words.append(word)  # я его туда добавляю\n",
    "\n",
    "print(unique_words)"
   ]
  },
  {
   "cell_type": "markdown",
   "metadata": {},
   "source": [
    "<p style=\"font-size: 18px\">Есть решение, которое можно реализовать ТОЛЬКО на Python. В питоне существует особая коллекция данных, которая называется <code>&lt;class 'set'&gt;</code>. Сет представляет собой набор УНИКАЛЬНЫЙ (неповторяющихся элементов). Он одновременно похож на список и на кортеж, но фишка в том, что в нем НЕ может быть одинаковых элементов. Eсть функция <code>set()</code>, которая преобразует список (или любую другую коллекцию) в сет, при этом все элементы сортируются в порядке возрастания.</p>"
   ]
  },
  {
   "cell_type": "code",
   "execution_count": 16,
   "metadata": {},
   "outputs": [
    {
     "name": "stdout",
     "output_type": "stream",
     "text": [
      "список: [4, 2, 6, 7, 2, 1, 8, 9, 6]\n",
      "сет из списка: {1, 2, 4, 6, 7, 8, 9}.\n"
     ]
    }
   ],
   "source": [
    "n = [4, 2, 6, 7, 2, 1, 8, 9, 6]\n",
    "print(f'список: {n}')\n",
    "s_n = set(n)\n",
    "print(f'сет из списка: {s_n}.')"
   ]
  },
  {
   "cell_type": "markdown",
   "metadata": {},
   "source": [
    "<p style=\"font-size: 18px\">Решение задачи с использованием сета может выглядеть вот так:</p>"
   ]
  },
  {
   "cell_type": "code",
   "execution_count": 18,
   "metadata": {},
   "outputs": [
    {
     "name": "stdout",
     "output_type": "stream",
     "text": [
      "{'также', 'мама', 'раму', 'где', 'мыла', 'а', 'рама'}\n"
     ]
    }
   ],
   "source": [
    "phrase = 'мама мыла раму где мама а также где рама'\n",
    "words = phrase.split()\n",
    "print(set(words))"
   ]
  }
 ],
 "metadata": {
  "kernelspec": {
   "display_name": "Python 3 (ipykernel)",
   "language": "python",
   "name": "python3"
  },
  "language_info": {
   "codemirror_mode": {
    "name": "ipython",
    "version": 3
   },
   "file_extension": ".py",
   "mimetype": "text/x-python",
   "name": "python",
   "nbconvert_exporter": "python",
   "pygments_lexer": "ipython3",
   "version": "3.11.2"
  }
 },
 "nbformat": 4,
 "nbformat_minor": 1
}
