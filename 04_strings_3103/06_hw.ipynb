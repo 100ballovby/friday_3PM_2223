{
 "cells": [
  {
   "cell_type": "markdown",
   "source": [
    "# 1. Напишите программу, которая выводит на экран все четные числа от 1 до 100 с использованием цикла for.\n"
   ],
   "metadata": {
    "collapsed": false
   }
  },
  {
   "cell_type": "code",
   "execution_count": 1,
   "outputs": [
    {
     "name": "stdout",
     "output_type": "stream",
     "text": [
      "0 2 4 6 8 10 12 14 16 18 20 22 24 26 28 30 32 34 36 38 40 42 44 46 48 50 52 54 56 58 60 62 64 66 68 70 72 74 76 78 80 82 84 86 88 90 92 94 96 98 100 "
     ]
    }
   ],
   "source": [
    "for i in range(0, 101, 2):\n",
    "    print(i, end=' ')"
   ],
   "metadata": {
    "collapsed": false
   }
  },
  {
   "cell_type": "markdown",
   "source": [
    "# 2. Напишите программу, которая запрашивает у пользователя число и выводит на экран все числа от 1 до этого числа включительно. Если число меньше 1, программа должна выдавать сообщение об ошибке."
   ],
   "metadata": {
    "collapsed": false
   }
  },
  {
   "cell_type": "code",
   "execution_count": 2,
   "outputs": [
    {
     "name": "stdout",
     "output_type": "stream",
     "text": [
      "1 2 3 4 5 6 7 8 9 10 11 12 13 14 15 16 17 18 19 20 21 22 23 "
     ]
    }
   ],
   "source": [
    "n = int(input('Введи число: '))\n",
    "\n",
    "if n < 1:\n",
    "    print('Error!')\n",
    "else:\n",
    "    for i in range(1, n + 1):\n",
    "        print(i, end=' ')"
   ],
   "metadata": {
    "collapsed": false
   }
  },
  {
   "cell_type": "markdown",
   "source": [
    "# 3. Напишите программу, которая выводит на экран сумму всех чисел от 1 до 1000, которые делятся на 3 или на 5."
   ],
   "metadata": {
    "collapsed": false
   }
  },
  {
   "cell_type": "code",
   "execution_count": 3,
   "outputs": [
    {
     "name": "stdout",
     "output_type": "stream",
     "text": [
      "33165\n"
     ]
    }
   ],
   "source": [
    "summary = 0\n",
    "for i in range(1, 1001):\n",
    "    if (i % 3 == 0) and (i % 5 == 0):\n",
    "        summary += i\n",
    "\n",
    "print(summary)"
   ],
   "metadata": {
    "collapsed": false
   }
  },
  {
   "cell_type": "markdown",
   "source": [
    "\n",
    "# 4. Напишите программу, которая выводит на экран все числа от 1 до 100, кратные 7."
   ],
   "metadata": {
    "collapsed": false
   }
  },
  {
   "cell_type": "code",
   "execution_count": 10,
   "outputs": [
    {
     "name": "stdout",
     "output_type": "stream",
     "text": [
      "0 7 14 21 28 35 42 49 56 63 70 77 84 91 98 "
     ]
    }
   ],
   "source": [
    "for i in range(0, 101, 7):\n",
    "    print(i, end=' ')"
   ],
   "metadata": {
    "collapsed": false
   }
  },
  {
   "cell_type": "markdown",
   "source": [
    "# Вариант решения нормальный"
   ],
   "metadata": {
    "collapsed": false
   }
  },
  {
   "cell_type": "code",
   "execution_count": 11,
   "outputs": [
    {
     "name": "stdout",
     "output_type": "stream",
     "text": [
      "7 14 21 28 35 42 49 56 63 70 77 84 91 98 "
     ]
    }
   ],
   "source": [
    "for i in range(1, 101):\n",
    "    if (i % 7 == 0):\n",
    "        print(i, end=' ')"
   ],
   "metadata": {
    "collapsed": false
   }
  }
 ],
 "metadata": {
  "kernelspec": {
   "display_name": "Python 3",
   "language": "python",
   "name": "python3"
  },
  "language_info": {
   "codemirror_mode": {
    "name": "ipython",
    "version": 2
   },
   "file_extension": ".py",
   "mimetype": "text/x-python",
   "name": "python",
   "nbconvert_exporter": "python",
   "pygments_lexer": "ipython2",
   "version": "2.7.6"
  }
 },
 "nbformat": 4,
 "nbformat_minor": 0
}
