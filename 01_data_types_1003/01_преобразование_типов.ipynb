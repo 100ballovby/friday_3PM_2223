{
 "cells": [
  {
   "cell_type": "markdown",
   "source": [
    "# Приведение типов\n",
    "\n",
    "<p>Приведение типов - это изменение типа данных переменной. Например: если в переменной сначала хранился тип данных <code>str</code>, но значение переменной нужно посчитать, вы можете привести тип данных этой переменной к <code>int</code>. То есть сделать ее целым числом.</p>\n",
    "\n",
    "<p>Существует несколько функций, которые могут менять типы данных переменной.</p>\n",
    "\n",
    "<ul>\n",
    "    <li><code><b>int(<span style=\"color: red;\">x</span>)</b></code> - преобразует <span style=\"color: red;\">x</span> в тип данных <code>int</code>.</li>\n",
    "    <li><code><b>float(<span style=\"color: red;\">x</span>)</b></code> - преобразует <span style=\"color: red;\">x</span> в тип данных <code>float</code>.</li>\n",
    "    <li><code><b>bool(<span style=\"color: red;\">x</span>)</b></code> - преобразует <span style=\"color: red;\">x</span> в тип данных <code>bool</code>.</li>\n",
    "    <li><code><b>str(<span style=\"color: red;\">x</span>)</b></code> - преобразует <span style=\"color: red;\">x</span> в тип данных <code>str</code>.</li>\n",
    "</ul>\n",
    "\n",
    "\n",
    "<p>Все эти функции всегда будут преобразовывать данные, которые вы им отдаете, но есть несколько моментов.</p>"
   ],
   "metadata": {
    "collapsed": false
   }
  },
  {
   "cell_type": "code",
   "execution_count": 5,
   "outputs": [],
   "source": [
    "a = 'five'  # str\n",
    "b = '2'  # str\n",
    "c = '6.2'  # str\n",
    "d = 5  # int\n",
    "e = 1.75  # float"
   ],
   "metadata": {
    "collapsed": false
   }
  },
  {
   "cell_type": "markdown",
   "source": [
    "# Функция <code>int</code>\n",
    "\n",
    "<p>Больше всего проблем вам доставит именно эта функция, потому что некоторые преобразования она выполнить не может. Например:</p>"
   ],
   "metadata": {
    "collapsed": false
   }
  },
  {
   "cell_type": "code",
   "execution_count": 6,
   "outputs": [
    {
     "ename": "ValueError",
     "evalue": "invalid literal for int() with base 10: 'five'",
     "output_type": "error",
     "traceback": [
      "\u001B[0;31m---------------------------------------------------------------------------\u001B[0m",
      "\u001B[0;31mValueError\u001B[0m                                Traceback (most recent call last)",
      "\u001B[0;32m/var/folders/kg/wys5qw45109bn_kq6647wwzw0000gn/T/ipykernel_17208/1731475610.py\u001B[0m in \u001B[0;36m<module>\u001B[0;34m\u001B[0m\n\u001B[0;32m----> 1\u001B[0;31m \u001B[0mprint\u001B[0m\u001B[0;34m(\u001B[0m\u001B[0mint\u001B[0m\u001B[0;34m(\u001B[0m\u001B[0ma\u001B[0m\u001B[0;34m)\u001B[0m\u001B[0;34m)\u001B[0m  \u001B[0;31m# будет ошибка\u001B[0m\u001B[0;34m\u001B[0m\u001B[0;34m\u001B[0m\u001B[0m\n\u001B[0m",
      "\u001B[0;31mValueError\u001B[0m: invalid literal for int() with base 10: 'five'"
     ]
    }
   ],
   "source": [
    "print(int(a))  # будет ошибка"
   ],
   "metadata": {
    "collapsed": false
   }
  },
  {
   "cell_type": "markdown",
   "source": [
    "<p>Ошибка возникает потому что только вы знаете, что five - это 5, но компьютеру это неизвестно, поэтому такого рода строки она преоьразовать не сможет.</p>"
   ],
   "metadata": {
    "collapsed": false
   }
  },
  {
   "cell_type": "code",
   "execution_count": 7,
   "outputs": [
    {
     "name": "stdout",
     "output_type": "stream",
     "text": [
      "2\n"
     ]
    }
   ],
   "source": [
    "print(int(b))"
   ],
   "metadata": {
    "collapsed": false
   }
  },
  {
   "cell_type": "markdown",
   "source": [
    "<p>Так как значение, написанное в кавычках является как бы числом, функция способна его привести.</p>"
   ],
   "metadata": {
    "collapsed": false
   }
  },
  {
   "cell_type": "code",
   "execution_count": 8,
   "outputs": [
    {
     "ename": "ValueError",
     "evalue": "invalid literal for int() with base 10: '6.2'",
     "output_type": "error",
     "traceback": [
      "\u001B[0;31m---------------------------------------------------------------------------\u001B[0m",
      "\u001B[0;31mValueError\u001B[0m                                Traceback (most recent call last)",
      "\u001B[0;32m/var/folders/kg/wys5qw45109bn_kq6647wwzw0000gn/T/ipykernel_17208/114812787.py\u001B[0m in \u001B[0;36m<module>\u001B[0;34m\u001B[0m\n\u001B[0;32m----> 1\u001B[0;31m \u001B[0mprint\u001B[0m\u001B[0;34m(\u001B[0m\u001B[0mint\u001B[0m\u001B[0;34m(\u001B[0m\u001B[0mc\u001B[0m\u001B[0;34m)\u001B[0m\u001B[0;34m)\u001B[0m\u001B[0;34m\u001B[0m\u001B[0;34m\u001B[0m\u001B[0m\n\u001B[0m",
      "\u001B[0;31mValueError\u001B[0m: invalid literal for int() with base 10: '6.2'"
     ]
    }
   ],
   "source": [
    "print(int(c))"
   ],
   "metadata": {
    "collapsed": false
   }
  },
  {
   "cell_type": "markdown",
   "source": [
    "<p>Ошибка возникает потому что в целых числах не бывает точек. Точка в данном случае расценивается функцией как строчный символ. Фактически в случае с переменной <b>c</b> вы пытаетесь преобразовать строку в число.</p>"
   ],
   "metadata": {
    "collapsed": false
   }
  },
  {
   "cell_type": "code",
   "execution_count": 9,
   "outputs": [
    {
     "name": "stdout",
     "output_type": "stream",
     "text": [
      "1\n"
     ]
    }
   ],
   "source": [
    "print(int(e))"
   ],
   "metadata": {
    "collapsed": false
   }
  },
  {
   "cell_type": "markdown",
   "source": [
    "<p>Точка будет считаться строчной только в том случае, если число написано в кавычках. В математике вы любую десятичную дробь можете сделать целым числом, в программировании так же работает. <b>Функция <code>int()</code></b> НИЧЕГО не округляет. Она просто убирает дробную часть.</p>"
   ],
   "metadata": {
    "collapsed": false
   }
  },
  {
   "cell_type": "code",
   "execution_count": 10,
   "outputs": [],
   "source": [
    "a = 'five'  # str\n",
    "b = '2'  # str\n",
    "c = '6.2'  # str\n",
    "d = 5  # int\n",
    "e = 1.75  # float"
   ],
   "metadata": {
    "collapsed": false
   }
  },
  {
   "cell_type": "markdown",
   "source": [
    "# Функция <code>float</code>"
   ],
   "metadata": {
    "collapsed": false
   }
  },
  {
   "cell_type": "code",
   "execution_count": 11,
   "outputs": [
    {
     "name": "stdout",
     "output_type": "stream",
     "text": [
      "2.0\n",
      "6.2\n",
      "5.0\n"
     ]
    }
   ],
   "source": [
    "print(float(b))\n",
    "print(float(c))\n",
    "print(float(d))"
   ],
   "metadata": {
    "collapsed": false
   }
  },
  {
   "cell_type": "markdown",
   "source": [
    "<p>Переменная <b>c</b> фактически является десятичной дробью, просто ее написали в кавычках. Функция <code>int</code> это приведение выполнить не может из-за точки, но <code>float</code> знает, что в десятичных дробях есть точка и не расценивает ее как строчный элемент.</p>\n",
    "\n",
    "<p>Есть хитрость по переводу переменной <b>c</b> в целое число, для этого нужно совместить две функции:</p>"
   ],
   "metadata": {
    "collapsed": false
   }
  },
  {
   "cell_type": "code",
   "execution_count": 12,
   "outputs": [
    {
     "name": "stdout",
     "output_type": "stream",
     "text": [
      "6\n"
     ]
    }
   ],
   "source": [
    "print(int(float(c)))"
   ],
   "metadata": {
    "collapsed": false
   }
  },
  {
   "cell_type": "markdown",
   "source": [
    "# Функция <code>bool</code>\n",
    "\n",
    "<p>Она преобразовывает все к логическим высказываниям - True/False</p>"
   ],
   "metadata": {
    "collapsed": false
   }
  },
  {
   "cell_type": "code",
   "execution_count": 13,
   "outputs": [
    {
     "name": "stdout",
     "output_type": "stream",
     "text": [
      "True\n",
      "False\n"
     ]
    }
   ],
   "source": [
    "a = 1\n",
    "b = 0\n",
    "\n",
    "print(bool(a))\n",
    "print(bool(b))"
   ],
   "metadata": {
    "collapsed": false
   }
  },
  {
   "cell_type": "markdown",
   "source": [
    "<p>Что будет, если преобразовать следующие числа в bool?</p>"
   ],
   "metadata": {
    "collapsed": false
   }
  },
  {
   "cell_type": "code",
   "execution_count": 14,
   "outputs": [
    {
     "name": "stdout",
     "output_type": "stream",
     "text": [
      "True\n",
      "True\n"
     ]
    }
   ],
   "source": [
    "c = 78\n",
    "d = -9\n",
    "\n",
    "print(bool(c))\n",
    "print(bool(d))"
   ],
   "metadata": {
    "collapsed": false
   }
  },
  {
   "cell_type": "markdown",
   "source": [
    "<p><code>bool()</code> отдает 0 только в том случае, если вы дадите ей на преобразование <code>0</code>, <code>None</code>, <code>''</code> или пустой массив.</p>"
   ],
   "metadata": {
    "collapsed": false
   }
  },
  {
   "cell_type": "code",
   "execution_count": 15,
   "outputs": [
    {
     "name": "stdout",
     "output_type": "stream",
     "text": [
      "True\n",
      "False\n"
     ]
    }
   ],
   "source": [
    "print(bool(' '))  # True\n",
    "print(bool(''))  # False"
   ],
   "metadata": {
    "collapsed": false
   }
  },
  {
   "cell_type": "markdown",
   "source": [
    "# Функция <code>str</code>\n",
    "\n",
    "<p>В строчный тип данных можно привести абсолютно любое значение вне зависимости, что оно из себя представляет.</p>\n",
    "\n",
    "<p>Есть имбалансная функция, которая нивелирует все недостатки функций, написанных выше.</p>\n",
    "\n",
    "# Функция <code>eval</code>\n",
    "\n",
    "<p>Она получает в качестве аргумента какое-то значение. И затем это значение она способна преобразовать <b>В ЛЮБОЙ ТИП ДАННЫХ, КРОМЕ СТРОКИ</b>. Строчки эта штука не воспринимает ни в каком виде.</p>"
   ],
   "metadata": {
    "collapsed": false
   }
  },
  {
   "cell_type": "code",
   "execution_count": 16,
   "outputs": [
    {
     "name": "stdout",
     "output_type": "stream",
     "text": [
      "2\n",
      "6.2\n",
      "True\n",
      "None\n"
     ]
    }
   ],
   "source": [
    "b = '2'  # str\n",
    "c = '6.2'  # str\n",
    "d = 'True'  # str\n",
    "e = 'None'  # str\n",
    "\n",
    "print(eval(b))\n",
    "print(eval(c))\n",
    "print(eval(d))\n",
    "print(eval(e))"
   ],
   "metadata": {
    "collapsed": false
   }
  },
  {
   "cell_type": "markdown",
   "source": [
    "<p>В отличие от остальных функций <code>eval()</code> понимает математические выражения.</p>"
   ],
   "metadata": {
    "collapsed": false
   }
  },
  {
   "cell_type": "code",
   "execution_count": 17,
   "outputs": [
    {
     "ename": "ValueError",
     "evalue": "invalid literal for int() with base 10: '2+4 + 6'",
     "output_type": "error",
     "traceback": [
      "\u001B[0;31m---------------------------------------------------------------------------\u001B[0m",
      "\u001B[0;31mValueError\u001B[0m                                Traceback (most recent call last)",
      "\u001B[0;32m/var/folders/kg/wys5qw45109bn_kq6647wwzw0000gn/T/ipykernel_17208/3403146192.py\u001B[0m in \u001B[0;36m<module>\u001B[0;34m\u001B[0m\n\u001B[0;32m----> 1\u001B[0;31m \u001B[0mmath1\u001B[0m \u001B[0;34m=\u001B[0m \u001B[0mint\u001B[0m\u001B[0;34m(\u001B[0m\u001B[0minput\u001B[0m\u001B[0;34m(\u001B[0m\u001B[0;34m'Введи математическое выражение: '\u001B[0m\u001B[0;34m)\u001B[0m\u001B[0;34m)\u001B[0m\u001B[0;34m\u001B[0m\u001B[0;34m\u001B[0m\u001B[0m\n\u001B[0m",
      "\u001B[0;31mValueError\u001B[0m: invalid literal for int() with base 10: '2+4 + 6'"
     ]
    }
   ],
   "source": [
    "math1 = int(input('Введи математическое выражение: '))"
   ],
   "metadata": {
    "collapsed": false
   }
  },
  {
   "cell_type": "code",
   "execution_count": 18,
   "outputs": [
    {
     "name": "stdout",
     "output_type": "stream",
     "text": [
      "15.0\n"
     ]
    }
   ],
   "source": [
    "math2 = eval(input('Введи математическое выражение: '))\n",
    "print(math2)"
   ],
   "metadata": {
    "collapsed": false
   }
  },
  {
   "cell_type": "markdown",
   "source": [
    "<p>Пробелы тоже воспринимаются.</p>"
   ],
   "metadata": {
    "collapsed": false
   }
  }
 ],
 "metadata": {
  "kernelspec": {
   "display_name": "Python 3 (ipykernel)",
   "language": "python",
   "name": "python3"
  },
  "language_info": {
   "codemirror_mode": {
    "name": "ipython",
    "version": 3
   },
   "file_extension": ".py",
   "mimetype": "text/x-python",
   "name": "python",
   "nbconvert_exporter": "python",
   "pygments_lexer": "ipython3",
   "version": "3.9.4"
  }
 },
 "nbformat": 4,
 "nbformat_minor": 1
}
